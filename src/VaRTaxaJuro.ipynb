{
 "cells": [
  {
   "cell_type": "code",
   "execution_count": 13,
   "metadata": {},
   "outputs": [
    {
     "data": {
      "text/plain": [
       "Plots.GRBackend()"
      ]
     },
     "execution_count": 13,
     "metadata": {},
     "output_type": "execute_result"
    }
   ],
   "source": [
    "using Iscalc\n",
    "using Plots; gr() # plotly() plotlyjs() pgfplots() "
   ]
  },
  {
   "cell_type": "code",
   "execution_count": 14,
   "metadata": {},
   "outputs": [
    {
     "name": "stdout",
     "output_type": "stream",
     "text": [
      "Modelo Svensson >\tBETA0\tBETA1\tBETA2\tBETA3\tTAU1\tTAU2\n",
      "Table with 3513 rows, 7 columns:\n",
      "\u001b[1mData        \u001b[22mBETA0    BETA1     BETA2      BETA3      TAU1     TAU2\n",
      "─────────────────────────────────────────────────────────────────────\n",
      "2004-09-06  5.41051  -3.46236  -0.361335  -0.466368  3.12833  1.48954\n",
      "2004-09-07  5.39189  -3.45035  -0.372908  -0.271295  3.15787  1.54857\n",
      "2004-09-08  5.38598  -3.44795  -0.346505  -0.198077  3.13786  1.55315\n",
      "2004-09-09  5.37733  -3.43259  -0.382208  -0.293482  3.27139  1.52114\n",
      "2004-09-10  5.35573  -3.39528  -0.375382  -0.507894  3.27988  1.4792\n",
      "2004-09-13  5.3654   -3.4144   -0.392852  -0.296918  3.31224  1.57513\n",
      "2004-09-14  5.36776  -3.41619  -0.401331  -0.349662  3.3114   1.57184\n",
      "2004-09-15  5.35826  -3.40315  -0.394387  -0.359843  3.30008  1.57312\n",
      "2004-09-16  5.34448  -3.3846   -0.385639  -0.331579  3.29007  1.5829\n",
      "⋮\n",
      "2018-05-17  1.72421  -2.30403  24.0516    -26.8225   2.29968  2.25894\n",
      "2018-05-18  1.73272  -2.28872  24.0185    -26.8556   2.32071  2.27651\n",
      "2018-05-21  1.70847  -2.27374  23.9799    -26.894    2.33946  2.30121\n",
      "2018-05-22  1.677    -2.24188  24.0068    -26.8671   2.32002  2.28067\n",
      "2018-05-23  1.67349  -2.23016  23.9621    -26.9118   2.3477   2.31056\n",
      "2018-05-24  1.61923  -2.15733  23.9521    -26.9217   2.35344  2.31548\n",
      "2018-05-25  1.57533  -2.12338  23.925     -26.9447   2.40424  2.36609\n",
      "2018-05-28  1.53792  -2.09498  23.8975    -26.9723   2.42318  2.3797\n",
      "\n",
      "Table with 3513 rows, 7 columns:\n",
      "\u001b[1mData        \u001b[22mBETA0    BETA1     BETA2      BETA3      TAU1     TAU2\n",
      "─────────────────────────────────────────────────────────────────────\n",
      "2004-09-06  5.41051  -3.46236  -0.361335  -0.466368  3.12833  1.48954\n",
      "2004-09-07  5.39189  -3.45035  -0.372908  -0.271295  3.15787  1.54857\n",
      "2004-09-08  5.38598  -3.44795  -0.346505  -0.198077  3.13786  1.55315\n",
      "2004-09-09  5.37733  -3.43259  -0.382208  -0.293482  3.27139  1.52114\n",
      "2004-09-10  5.35573  -3.39528  -0.375382  -0.507894  3.27988  1.4792\n",
      "2004-09-13  5.3654   -3.4144   -0.392852  -0.296918  3.31224  1.57513\n",
      "2004-09-14  5.36776  -3.41619  -0.401331  -0.349662  3.3114   1.57184\n",
      "2004-09-15  5.35826  -3.40315  -0.394387  -0.359843  3.30008  1.57312\n",
      "2004-09-16  5.34448  -3.3846   -0.385639  -0.331579  3.29007  1.5829\n",
      "⋮\n",
      "2018-05-17  1.72421  -2.30403  24.0516    -26.8225   2.29968  2.25894\n",
      "2018-05-18  1.73272  -2.28872  24.0185    -26.8556   2.32071  2.27651\n",
      "2018-05-21  1.70847  -2.27374  23.9799    -26.894    2.33946  2.30121\n",
      "2018-05-22  1.677    -2.24188  24.0068    -26.8671   2.32002  2.28067\n",
      "2018-05-23  1.67349  -2.23016  23.9621    -26.9118   2.3477   2.31056\n",
      "2018-05-24  1.61923  -2.15733  23.9521    -26.9217   2.35344  2.31548\n",
      "2018-05-25  1.57533  -2.12338  23.925     -26.9447   2.40424  2.36609\n",
      "2018-05-28  1.53792  -2.09498  23.8975    -26.9723   2.42318  2.3797\n"
     ]
    }
   ],
   "source": [
    "# Usar website do Banco Central Europeu para obter os parâmetros do modelo Nelson-Siegel-Svensson\n",
    "\n",
    "Svensson = obter(:NSS, inicio = \"01-01-2000\", fim = \"28-05-2018\")\n",
    "\n",
    "# Visualizar parâmetros obtidos\n",
    "\n",
    "printm(Svensson)\n"
   ]
  },
  {
   "cell_type": "code",
   "execution_count": 3,
   "metadata": {},
   "outputs": [
    {
     "data": {
      "text/plain": [
       "5×4 Array{Any,2}:\n",
       " \"PTOTESOE0013\"  \"2022-10-17\"  0.022    107.63\n",
       " \"PTOTEKOE0011\"  \"2025-10-15\"  0.02875  111.03\n",
       " \"PTOTETOE0012\"  \"2026-07-21\"  0.02875  109.56\n",
       " \"PTOTEUOE0019\"  \"2027-04-14\"  0.04125  118.9 \n",
       " \"PTOTEROE0014\"  \"2030-02-15\"  0.03875  117.6 "
      ]
     },
     "execution_count": 3,
     "metadata": {},
     "output_type": "execute_result"
    }
   ],
   "source": [
    "DataReferencia = Date(\"2018-05-28\")  # Data de referência considerada como sendo a data da análise\n",
    "\n",
    "# Portfolio com cinco Obrigações do Tesouro (OT)\n",
    "Portfolio = [\"PTOTESOE0013\" \"2022-10-17\" 0.02200 107.63;\n",
    "             \"PTOTEKOE0011\" \"2025-10-15\" 0.02875 111.03;\n",
    "             \"PTOTETOE0012\" \"2026-07-21\" 0.02875 109.56;\n",
    "             \"PTOTEUOE0019\" \"2027-04-14\" 0.04125 118.90;\n",
    "             \"PTOTEROE0014\" \"2030-02-15\" 0.03875 117.60]"
   ]
  },
  {
   "cell_type": "code",
   "execution_count": 4,
   "metadata": {},
   "outputs": [
    {
     "ename": "LoadError",
     "evalue": "\u001b[91mUndefVarError: JCorridos not defined\u001b[39m",
     "output_type": "error",
     "traceback": [
      "\u001b[91mUndefVarError: JCorridos not defined\u001b[39m",
      "",
      "Stacktrace:",
      " [1] \u001b[1mexecute_request\u001b[22m\u001b[22m\u001b[1m(\u001b[22m\u001b[22m::ZMQ.Socket, ::IJulia.Msg\u001b[1m)\u001b[22m\u001b[22m at \u001b[1mC:\\Users\\António\\AppData\\Local\\JuliaPro-0.6.2.2\\pkgs-0.6.2.2\\v0.6\\IJulia\\src\\execute_request.jl:158\u001b[22m\u001b[22m",
      " [2] \u001b[1m(::Compat.#inner#18{Array{Any,1},IJulia.#execute_request,Tuple{ZMQ.Socket,IJulia.Msg}})\u001b[22m\u001b[22m\u001b[1m(\u001b[22m\u001b[22m\u001b[1m)\u001b[22m\u001b[22m at \u001b[1mC:\\Users\\António\\AppData\\Local\\JuliaPro-0.6.2.2\\pkgs-0.6.2.2\\v0.6\\Compat\\src\\Compat.jl:386\u001b[22m\u001b[22m",
      " [3] \u001b[1meventloop\u001b[22m\u001b[22m\u001b[1m(\u001b[22m\u001b[22m::ZMQ.Socket\u001b[1m)\u001b[22m\u001b[22m at \u001b[1mC:\\Users\\António\\AppData\\Local\\JuliaPro-0.6.2.2\\pkgs-0.6.2.2\\v0.6\\IJulia\\src\\eventloop.jl:8\u001b[22m\u001b[22m",
      " [4] \u001b[1m(::IJulia.##14#17)\u001b[22m\u001b[22m\u001b[1m(\u001b[22m\u001b[22m\u001b[1m)\u001b[22m\u001b[22m at \u001b[1m.\\task.jl:335\u001b[22m\u001b[22m"
     ]
    }
   ],
   "source": [
    "# Juros Corridos das Obrigações à data de referência\n",
    "\n",
    "JC = JCorridos(Portfolio,DataReferencia)\n",
    "println(JC)"
   ]
  },
  {
   "cell_type": "code",
   "execution_count": 5,
   "metadata": {},
   "outputs": [
    {
     "ename": "LoadError",
     "evalue": "\u001b[91mUndefVarError: FluxosCaixa not defined\u001b[39m",
     "output_type": "error",
     "traceback": [
      "\u001b[91mUndefVarError: FluxosCaixa not defined\u001b[39m",
      "",
      "Stacktrace:",
      " [1] \u001b[1mexecute_request\u001b[22m\u001b[22m\u001b[1m(\u001b[22m\u001b[22m::ZMQ.Socket, ::IJulia.Msg\u001b[1m)\u001b[22m\u001b[22m at \u001b[1mC:\\Users\\António\\AppData\\Local\\JuliaPro-0.6.2.2\\pkgs-0.6.2.2\\v0.6\\IJulia\\src\\execute_request.jl:158\u001b[22m\u001b[22m",
      " [2] \u001b[1m(::Compat.#inner#18{Array{Any,1},IJulia.#execute_request,Tuple{ZMQ.Socket,IJulia.Msg}})\u001b[22m\u001b[22m\u001b[1m(\u001b[22m\u001b[22m\u001b[1m)\u001b[22m\u001b[22m at \u001b[1mC:\\Users\\António\\AppData\\Local\\JuliaPro-0.6.2.2\\pkgs-0.6.2.2\\v0.6\\Compat\\src\\Compat.jl:386\u001b[22m\u001b[22m",
      " [3] \u001b[1meventloop\u001b[22m\u001b[22m\u001b[1m(\u001b[22m\u001b[22m::ZMQ.Socket\u001b[1m)\u001b[22m\u001b[22m at \u001b[1mC:\\Users\\António\\AppData\\Local\\JuliaPro-0.6.2.2\\pkgs-0.6.2.2\\v0.6\\IJulia\\src\\eventloop.jl:8\u001b[22m\u001b[22m",
      " [4] \u001b[1m(::IJulia.##14#17)\u001b[22m\u001b[22m\u001b[1m(\u001b[22m\u001b[22m\u001b[1m)\u001b[22m\u001b[22m at \u001b[1m.\\task.jl:335\u001b[22m\u001b[22m"
     ]
    }
   ],
   "source": [
    "# Tenores e respectivos Fluxos de Caixa, segundo a convenção utilizada pelas OT: forward-unadjusted  \n",
    "\n",
    "TFC = FluxosCaixa(Portfolio,DataReferencia)\n",
    "Tenores = column(TFC,:Tenores)\n",
    "FC = column(TFC,:FluxosCaixa)\n",
    "println(TFC)"
   ]
  },
  {
   "cell_type": "code",
   "execution_count": 6,
   "metadata": {},
   "outputs": [
    {
     "ename": "LoadError",
     "evalue": "\u001b[91mUndefVarError: fspot not defined\u001b[39m",
     "output_type": "error",
     "traceback": [
      "\u001b[91mUndefVarError: fspot not defined\u001b[39m",
      "",
      "Stacktrace:",
      " [1] \u001b[1mexecute_request\u001b[22m\u001b[22m\u001b[1m(\u001b[22m\u001b[22m::ZMQ.Socket, ::IJulia.Msg\u001b[1m)\u001b[22m\u001b[22m at \u001b[1mC:\\Users\\António\\AppData\\Local\\JuliaPro-0.6.2.2\\pkgs-0.6.2.2\\v0.6\\IJulia\\src\\execute_request.jl:158\u001b[22m\u001b[22m",
      " [2] \u001b[1m(::Compat.#inner#18{Array{Any,1},IJulia.#execute_request,Tuple{ZMQ.Socket,IJulia.Msg}})\u001b[22m\u001b[22m\u001b[1m(\u001b[22m\u001b[22m\u001b[1m)\u001b[22m\u001b[22m at \u001b[1mC:\\Users\\António\\AppData\\Local\\JuliaPro-0.6.2.2\\pkgs-0.6.2.2\\v0.6\\Compat\\src\\Compat.jl:386\u001b[22m\u001b[22m",
      " [3] \u001b[1meventloop\u001b[22m\u001b[22m\u001b[1m(\u001b[22m\u001b[22m::ZMQ.Socket\u001b[1m)\u001b[22m\u001b[22m at \u001b[1mC:\\Users\\António\\AppData\\Local\\JuliaPro-0.6.2.2\\pkgs-0.6.2.2\\v0.6\\IJulia\\src\\eventloop.jl:8\u001b[22m\u001b[22m",
      " [4] \u001b[1m(::IJulia.##14#17)\u001b[22m\u001b[22m\u001b[1m(\u001b[22m\u001b[22m\u001b[1m)\u001b[22m\u001b[22m at \u001b[1m.\\task.jl:335\u001b[22m\u001b[22m"
     ]
    }
   ],
   "source": [
    "# Matriz com as - Taxas Spot - para os tenores dos Fluxos de Caixa do Portfolio (default: últimos 400 dias úteis TARGET)\n",
    "\n",
    "FS = fspot(Svensson, Tenores)\n",
    "show(IOContext(STDOUT, limit=true), \"text/plain\", FS)"
   ]
  },
  {
   "cell_type": "code",
   "execution_count": 7,
   "metadata": {},
   "outputs": [
    {
     "ename": "LoadError",
     "evalue": "\u001b[91mUndefVarError: plot not defined\u001b[39m",
     "output_type": "error",
     "traceback": [
      "\u001b[91mUndefVarError: plot not defined\u001b[39m",
      "",
      "Stacktrace:",
      " [1] \u001b[1mexecute_request\u001b[22m\u001b[22m\u001b[1m(\u001b[22m\u001b[22m::ZMQ.Socket, ::IJulia.Msg\u001b[1m)\u001b[22m\u001b[22m at \u001b[1mC:\\Users\\António\\AppData\\Local\\JuliaPro-0.6.2.2\\pkgs-0.6.2.2\\v0.6\\IJulia\\src\\execute_request.jl:158\u001b[22m\u001b[22m",
      " [2] \u001b[1m(::Compat.#inner#18{Array{Any,1},IJulia.#execute_request,Tuple{ZMQ.Socket,IJulia.Msg}})\u001b[22m\u001b[22m\u001b[1m(\u001b[22m\u001b[22m\u001b[1m)\u001b[22m\u001b[22m at \u001b[1mC:\\Users\\António\\AppData\\Local\\JuliaPro-0.6.2.2\\pkgs-0.6.2.2\\v0.6\\Compat\\src\\Compat.jl:386\u001b[22m\u001b[22m",
      " [3] \u001b[1meventloop\u001b[22m\u001b[22m\u001b[1m(\u001b[22m\u001b[22m::ZMQ.Socket\u001b[1m)\u001b[22m\u001b[22m at \u001b[1mC:\\Users\\António\\AppData\\Local\\JuliaPro-0.6.2.2\\pkgs-0.6.2.2\\v0.6\\IJulia\\src\\eventloop.jl:8\u001b[22m\u001b[22m",
      " [4] \u001b[1m(::IJulia.##14#17)\u001b[22m\u001b[22m\u001b[1m(\u001b[22m\u001b[22m\u001b[1m)\u001b[22m\u001b[22m at \u001b[1m.\\task.jl:335\u001b[22m\u001b[22m"
     ]
    }
   ],
   "source": [
    "# Gráfico da ETTJ para a data mais recente\n",
    "plot(Tenores,FS[1,:], label=\"\")"
   ]
  },
  {
   "cell_type": "code",
   "execution_count": 8,
   "metadata": {},
   "outputs": [
    {
     "ename": "LoadError",
     "evalue": "\u001b[91mUndefVarError: fdesconto not defined\u001b[39m",
     "output_type": "error",
     "traceback": [
      "\u001b[91mUndefVarError: fdesconto not defined\u001b[39m",
      "",
      "Stacktrace:",
      " [1] \u001b[1mexecute_request\u001b[22m\u001b[22m\u001b[1m(\u001b[22m\u001b[22m::ZMQ.Socket, ::IJulia.Msg\u001b[1m)\u001b[22m\u001b[22m at \u001b[1mC:\\Users\\António\\AppData\\Local\\JuliaPro-0.6.2.2\\pkgs-0.6.2.2\\v0.6\\IJulia\\src\\execute_request.jl:158\u001b[22m\u001b[22m",
      " [2] \u001b[1m(::Compat.#inner#18{Array{Any,1},IJulia.#execute_request,Tuple{ZMQ.Socket,IJulia.Msg}})\u001b[22m\u001b[22m\u001b[1m(\u001b[22m\u001b[22m\u001b[1m)\u001b[22m\u001b[22m at \u001b[1mC:\\Users\\António\\AppData\\Local\\JuliaPro-0.6.2.2\\pkgs-0.6.2.2\\v0.6\\Compat\\src\\Compat.jl:386\u001b[22m\u001b[22m",
      " [3] \u001b[1meventloop\u001b[22m\u001b[22m\u001b[1m(\u001b[22m\u001b[22m::ZMQ.Socket\u001b[1m)\u001b[22m\u001b[22m at \u001b[1mC:\\Users\\António\\AppData\\Local\\JuliaPro-0.6.2.2\\pkgs-0.6.2.2\\v0.6\\IJulia\\src\\eventloop.jl:8\u001b[22m\u001b[22m",
      " [4] \u001b[1m(::IJulia.##14#17)\u001b[22m\u001b[22m\u001b[1m(\u001b[22m\u001b[22m\u001b[1m)\u001b[22m\u001b[22m at \u001b[1m.\\task.jl:335\u001b[22m\u001b[22m"
     ]
    }
   ],
   "source": [
    "# Matriz com os - Factores de Desconto - para os tenores dos Fluxos de Caixa do Portfolio\n",
    "\n",
    "FD = fdesconto(Svensson, Tenores)\n",
    "show(IOContext(STDOUT, limit=true), \"text/plain\", FD)"
   ]
  },
  {
   "cell_type": "code",
   "execution_count": 9,
   "metadata": {},
   "outputs": [
    {
     "ename": "LoadError",
     "evalue": "\u001b[91mUndefVarError: table not defined\u001b[39m",
     "output_type": "error",
     "traceback": [
      "\u001b[91mUndefVarError: table not defined\u001b[39m",
      "",
      "Stacktrace:",
      " [1] \u001b[1mexecute_request\u001b[22m\u001b[22m\u001b[1m(\u001b[22m\u001b[22m::ZMQ.Socket, ::IJulia.Msg\u001b[1m)\u001b[22m\u001b[22m at \u001b[1mC:\\Users\\António\\AppData\\Local\\JuliaPro-0.6.2.2\\pkgs-0.6.2.2\\v0.6\\IJulia\\src\\execute_request.jl:158\u001b[22m\u001b[22m",
      " [2] \u001b[1m(::Compat.#inner#18{Array{Any,1},IJulia.#execute_request,Tuple{ZMQ.Socket,IJulia.Msg}})\u001b[22m\u001b[22m\u001b[1m(\u001b[22m\u001b[22m\u001b[1m)\u001b[22m\u001b[22m at \u001b[1mC:\\Users\\António\\AppData\\Local\\JuliaPro-0.6.2.2\\pkgs-0.6.2.2\\v0.6\\Compat\\src\\Compat.jl:386\u001b[22m\u001b[22m",
      " [3] \u001b[1meventloop\u001b[22m\u001b[22m\u001b[1m(\u001b[22m\u001b[22m::ZMQ.Socket\u001b[1m)\u001b[22m\u001b[22m at \u001b[1mC:\\Users\\António\\AppData\\Local\\JuliaPro-0.6.2.2\\pkgs-0.6.2.2\\v0.6\\IJulia\\src\\eventloop.jl:8\u001b[22m\u001b[22m",
      " [4] \u001b[1m(::IJulia.##14#17)\u001b[22m\u001b[22m\u001b[1m(\u001b[22m\u001b[22m\u001b[1m)\u001b[22m\u001b[22m at \u001b[1m.\\task.jl:335\u001b[22m\u001b[22m"
     ]
    }
   ],
   "source": [
    "# Simulação histórica do valor do Portfolio a partir da ETTJ para cada um dos últimos 400 dias úteis TARGET   \n",
    "\n",
    "VPortfolio = table(FD * FC, names=[:Vp])\n",
    "println(VPortfolio)"
   ]
  },
  {
   "cell_type": "code",
   "execution_count": 10,
   "metadata": {},
   "outputs": [
    {
     "ename": "LoadError",
     "evalue": "\u001b[91mfunction reduce does not accept keyword arguments\u001b[39m",
     "output_type": "error",
     "traceback": [
      "\u001b[91mfunction reduce does not accept keyword arguments\u001b[39m",
      "",
      "Stacktrace:",
      " [1] \u001b[1mexecute_request\u001b[22m\u001b[22m\u001b[1m(\u001b[22m\u001b[22m::ZMQ.Socket, ::IJulia.Msg\u001b[1m)\u001b[22m\u001b[22m at \u001b[1mC:\\Users\\António\\AppData\\Local\\JuliaPro-0.6.2.2\\pkgs-0.6.2.2\\v0.6\\IJulia\\src\\execute_request.jl:158\u001b[22m\u001b[22m",
      " [2] \u001b[1m(::Compat.#inner#18{Array{Any,1},IJulia.#execute_request,Tuple{ZMQ.Socket,IJulia.Msg}})\u001b[22m\u001b[22m\u001b[1m(\u001b[22m\u001b[22m\u001b[1m)\u001b[22m\u001b[22m at \u001b[1mC:\\Users\\António\\AppData\\Local\\JuliaPro-0.6.2.2\\pkgs-0.6.2.2\\v0.6\\Compat\\src\\Compat.jl:386\u001b[22m\u001b[22m",
      " [3] \u001b[1meventloop\u001b[22m\u001b[22m\u001b[1m(\u001b[22m\u001b[22m::ZMQ.Socket\u001b[1m)\u001b[22m\u001b[22m at \u001b[1mC:\\Users\\António\\AppData\\Local\\JuliaPro-0.6.2.2\\pkgs-0.6.2.2\\v0.6\\IJulia\\src\\eventloop.jl:8\u001b[22m\u001b[22m",
      " [4] \u001b[1m(::IJulia.##14#17)\u001b[22m\u001b[22m\u001b[1m(\u001b[22m\u001b[22m\u001b[1m)\u001b[22m\u001b[22m at \u001b[1m.\\task.jl:335\u001b[22m\u001b[22m"
     ]
    }
   ],
   "source": [
    "# Estimativa do VaR por Simulação Histórica\n",
    "\n",
    "media = reduce(Mean(), VPortfolio, select = :Vp)\n",
    "quantil05 = reduce(Quantile([0.05]), VPortfolio, select = :Vp)\n",
    "VaR = println(\"VaR_5% = \", value(media) - value(quantil05))"
   ]
  },
  {
   "cell_type": "code",
   "execution_count": null,
   "metadata": {},
   "outputs": [],
   "source": []
  }
 ],
 "metadata": {
  "kernelspec": {
   "display_name": "Julia 0.6.2",
   "language": "julia",
   "name": "julia-0.6"
  },
  "language_info": {
   "file_extension": ".jl",
   "mimetype": "application/julia",
   "name": "julia",
   "version": "0.6.2"
  }
 },
 "nbformat": 4,
 "nbformat_minor": 2
}
